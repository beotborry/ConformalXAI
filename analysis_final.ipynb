{
 "cells": [
  {
   "cell_type": "code",
   "execution_count": 1,
   "metadata": {},
   "outputs": [],
   "source": [
    "import numpy as np\n",
    "import torch.nn.functional as F\n",
    "from transform_factory import center_crop_224\n",
    "from torchvision import transforms\n",
    "import torch\n",
    "from tqdm import tqdm"
   ]
  },
  {
   "cell_type": "code",
   "execution_count": 2,
   "metadata": {},
   "outputs": [
    {
     "name": "stdout",
     "output_type": "stream",
     "text": [
      "(1, 11, 11) (2000, 1, 11, 11) (2000,)\n",
      "(1, 224, 224) [[[-0.00058214 -0.00058214 -0.00058214 ...  0.00041289  0.00041289\n",
      "    0.00041289]\n",
      "  [-0.00058214 -0.00058214 -0.00058214 ...  0.00041289  0.00041289\n",
      "    0.00041289]\n",
      "  [-0.00058214 -0.00058214 -0.00058214 ...  0.00041289  0.00041289\n",
      "    0.00041289]\n",
      "  ...\n",
      "  [-0.00096525 -0.00096525 -0.00096525 ... -0.00338584 -0.00338584\n",
      "   -0.00338584]\n",
      "  [-0.00096525 -0.00096525 -0.00096525 ... -0.00338584 -0.00338584\n",
      "   -0.00338584]\n",
      "  [-0.00096525 -0.00096525 -0.00096525 ... -0.00338584 -0.00338584\n",
      "   -0.00338584]]]\n"
     ]
    }
   ],
   "source": [
    "with open(\"results/train_seed_0_pred_orig_eval_orig_transform_both_sign_all_reduction_sum/n01440764_752.JPEG_expl_GradCAM_sample_2000_sigma_0.0_seed_0_orig_true_config.npy\", \"rb\") as f:\n",
    "    orig_expl = np.load(f, allow_pickle=True)\n",
    "    true_expls = np.load(f, allow_pickle=True)\n",
    "    configs = np.load(f, allow_pickle=True)\n",
    "\n",
    "print(orig_expl.shape, true_expls.shape, configs.shape)\n",
    "orig_expl = F.interpolate(torch.tensor(orig_expl).unsqueeze(0), (224, 224), mode='bilinear').squeeze(0).numpy()\n",
    "print(orig_expl.shape, orig_expl)"
   ]
  },
  {
   "cell_type": "code",
   "execution_count": 4,
   "metadata": {},
   "outputs": [
    {
     "name": "stderr",
     "output_type": "stream",
     "text": [
      "1000it [02:17,  7.28it/s]"
     ]
    },
    {
     "name": "stdout",
     "output_type": "stream",
     "text": [
      "(1000, 1, 224, 224)\n"
     ]
    },
    {
     "name": "stderr",
     "output_type": "stream",
     "text": [
      "\n"
     ]
    }
   ],
   "source": [
    "indicies = np.arange(0, 2000, 1)\n",
    "np.random.shuffle(indicies)\n",
    "\n",
    "cal_idx, val_idx = indicies[:1000], indicies[1000:]\n",
    "\n",
    "scores = []\n",
    "\n",
    "for true_expl, config in tqdm(zip(true_expls[cal_idx], configs[cal_idx])):\n",
    "\n",
    "    T_inv_spatial = transforms.Compose([\n",
    "        transforms.RandomRotation((-config['rot_angle'], -config['rot_angle'])),\n",
    "        transforms.RandomVerticalFlip(config['flip_vertical']),\n",
    "        transforms.RandomHorizontalFlip(config['flip_horizon']),\n",
    "        \n",
    "    ])\n",
    "    \n",
    "    true_expl = center_crop_224(T_inv_spatial(F.interpolate(torch.tensor(true_expl).unsqueeze(0), (322, 322), mode='bilinear'))).squeeze(0).numpy()\n",
    "\n",
    "    # pp_true_expls.append(true_expl)\n",
    "    scores.append(np.abs(true_expl - orig_expl))\n",
    "\n",
    "\n",
    "scores = np.stack(scores)\n",
    "print(scores.shape)\n",
    "    "
   ]
  },
  {
   "cell_type": "code",
   "execution_count": 5,
   "metadata": {},
   "outputs": [
    {
     "name": "stderr",
     "output_type": "stream",
     "text": [
      "1000it [00:52, 19.07it/s]\n"
     ]
    }
   ],
   "source": [
    "test_expls =[]\n",
    "for true_expl, config in tqdm(zip(true_expls[val_idx], configs[val_idx])):\n",
    "\n",
    "    T_inv_spatial = transforms.Compose([\n",
    "        transforms.RandomRotation((-config['rot_angle'], -config['rot_angle'])),\n",
    "        transforms.RandomVerticalFlip(config['flip_vertical']),\n",
    "        transforms.RandomHorizontalFlip(config['flip_horizon']),\n",
    "        \n",
    "    ])\n",
    "    \n",
    "    test_expls.append(center_crop_224(T_inv_spatial(F.interpolate(torch.tensor(true_expl).unsqueeze(0), (322, 322), mode='bilinear'))).squeeze(0).numpy())\n",
    "\n",
    "test_expls = np.stack(test_expls)\n",
    "\n"
   ]
  },
  {
   "cell_type": "code",
   "execution_count": 6,
   "metadata": {},
   "outputs": [],
   "source": [
    "def qhat(score, alpha:float):\n",
    "    n = score.shape[0]\n",
    "    q_hat = np.quantile(score, np.ceil((n+1) * (1-alpha)) / n, axis = 0)\n",
    "\n",
    "    return q_hat\n",
    "\n",
    "def get_conf_interval(expl: np.ndarray, q_hat: np.ndarray):\n",
    "    high = expl + q_hat\n",
    "    low = expl - q_hat\n",
    "    return (low, high)\n",
    "\n",
    "def calc_coverage_prob(true: np.ndarray, conf_low: np.ndarray, conf_high: np.ndarray):\n",
    "    is_cover = np.logical_and(conf_low <= true, true <= conf_high)\n",
    "    coverage_prob = np.sum(is_cover, axis = 0) / true.shape[0]\n",
    "\n",
    "    return coverage_prob"
   ]
  },
  {
   "cell_type": "code",
   "execution_count": 9,
   "metadata": {},
   "outputs": [
    {
     "name": "stdout",
     "output_type": "stream",
     "text": [
      "(1, 224, 224)\n",
      "(1, 224, 224)\n",
      "(1, 224, 224)\n",
      "(1, 224, 224)\n"
     ]
    },
    {
     "ename": "KeyboardInterrupt",
     "evalue": "",
     "output_type": "error",
     "traceback": [
      "\u001b[0;31m---------------------------------------------------------------------------\u001b[0m",
      "\u001b[0;31mKeyboardInterrupt\u001b[0m                         Traceback (most recent call last)",
      "Cell \u001b[0;32mIn[9], line 4\u001b[0m\n\u001b[1;32m      1\u001b[0m results \u001b[39m=\u001b[39m []\n\u001b[1;32m      3\u001b[0m \u001b[39mfor\u001b[39;00m alpha \u001b[39min\u001b[39;00m np\u001b[39m.\u001b[39marange(\u001b[39m0.05\u001b[39m, \u001b[39m1\u001b[39m, \u001b[39m0.05\u001b[39m):\n\u001b[0;32m----> 4\u001b[0m     q_hat \u001b[39m=\u001b[39m qhat(scores, alpha)\n\u001b[1;32m      6\u001b[0m     conf_low, conf_high \u001b[39m=\u001b[39m get_conf_interval(orig_expl, q_hat)\n\u001b[1;32m      8\u001b[0m     coverage_prob \u001b[39m=\u001b[39m calc_coverage_prob(test_expls, conf_low, conf_high)\n",
      "Cell \u001b[0;32mIn[6], line 3\u001b[0m, in \u001b[0;36mqhat\u001b[0;34m(score, alpha)\u001b[0m\n\u001b[1;32m      1\u001b[0m \u001b[39mdef\u001b[39;00m \u001b[39mqhat\u001b[39m(score, alpha:\u001b[39mfloat\u001b[39m):\n\u001b[1;32m      2\u001b[0m     n \u001b[39m=\u001b[39m score\u001b[39m.\u001b[39mshape[\u001b[39m0\u001b[39m]\n\u001b[0;32m----> 3\u001b[0m     q_hat \u001b[39m=\u001b[39m np\u001b[39m.\u001b[39;49mquantile(score, np\u001b[39m.\u001b[39;49mceil((n\u001b[39m+\u001b[39;49m\u001b[39m1\u001b[39;49m) \u001b[39m*\u001b[39;49m (\u001b[39m1\u001b[39;49m\u001b[39m-\u001b[39;49malpha)) \u001b[39m/\u001b[39;49m n, axis \u001b[39m=\u001b[39;49m \u001b[39m0\u001b[39;49m)\n\u001b[1;32m      5\u001b[0m     \u001b[39mreturn\u001b[39;00m q_hat\n",
      "File \u001b[0;32m<__array_function__ internals>:180\u001b[0m, in \u001b[0;36mquantile\u001b[0;34m(*args, **kwargs)\u001b[0m\n",
      "File \u001b[0;32m~/anaconda3/envs/lcodec/lib/python3.9/site-packages/numpy/lib/function_base.py:4412\u001b[0m, in \u001b[0;36mquantile\u001b[0;34m(a, q, axis, out, overwrite_input, method, keepdims, interpolation)\u001b[0m\n\u001b[1;32m   4410\u001b[0m \u001b[39mif\u001b[39;00m \u001b[39mnot\u001b[39;00m _quantile_is_valid(q):\n\u001b[1;32m   4411\u001b[0m     \u001b[39mraise\u001b[39;00m \u001b[39mValueError\u001b[39;00m(\u001b[39m\"\u001b[39m\u001b[39mQuantiles must be in the range [0, 1]\u001b[39m\u001b[39m\"\u001b[39m)\n\u001b[0;32m-> 4412\u001b[0m \u001b[39mreturn\u001b[39;00m _quantile_unchecked(\n\u001b[1;32m   4413\u001b[0m     a, q, axis, out, overwrite_input, method, keepdims)\n",
      "File \u001b[0;32m~/anaconda3/envs/lcodec/lib/python3.9/site-packages/numpy/lib/function_base.py:4424\u001b[0m, in \u001b[0;36m_quantile_unchecked\u001b[0;34m(a, q, axis, out, overwrite_input, method, keepdims)\u001b[0m\n\u001b[1;32m   4416\u001b[0m \u001b[39mdef\u001b[39;00m \u001b[39m_quantile_unchecked\u001b[39m(a,\n\u001b[1;32m   4417\u001b[0m                         q,\n\u001b[1;32m   4418\u001b[0m                         axis\u001b[39m=\u001b[39m\u001b[39mNone\u001b[39;00m,\n\u001b[0;32m   (...)\u001b[0m\n\u001b[1;32m   4421\u001b[0m                         method\u001b[39m=\u001b[39m\u001b[39m\"\u001b[39m\u001b[39mlinear\u001b[39m\u001b[39m\"\u001b[39m,\n\u001b[1;32m   4422\u001b[0m                         keepdims\u001b[39m=\u001b[39m\u001b[39mFalse\u001b[39;00m):\n\u001b[1;32m   4423\u001b[0m \u001b[39m    \u001b[39m\u001b[39m\"\"\"Assumes that q is in [0, 1], and is an ndarray\"\"\"\u001b[39;00m\n\u001b[0;32m-> 4424\u001b[0m     r, k \u001b[39m=\u001b[39m _ureduce(a,\n\u001b[1;32m   4425\u001b[0m                     func\u001b[39m=\u001b[39;49m_quantile_ureduce_func,\n\u001b[1;32m   4426\u001b[0m                     q\u001b[39m=\u001b[39;49mq,\n\u001b[1;32m   4427\u001b[0m                     axis\u001b[39m=\u001b[39;49maxis,\n\u001b[1;32m   4428\u001b[0m                     out\u001b[39m=\u001b[39;49mout,\n\u001b[1;32m   4429\u001b[0m                     overwrite_input\u001b[39m=\u001b[39;49moverwrite_input,\n\u001b[1;32m   4430\u001b[0m                     method\u001b[39m=\u001b[39;49mmethod)\n\u001b[1;32m   4431\u001b[0m     \u001b[39mif\u001b[39;00m keepdims:\n\u001b[1;32m   4432\u001b[0m         \u001b[39mreturn\u001b[39;00m r\u001b[39m.\u001b[39mreshape(q\u001b[39m.\u001b[39mshape \u001b[39m+\u001b[39m k)\n",
      "File \u001b[0;32m~/anaconda3/envs/lcodec/lib/python3.9/site-packages/numpy/lib/function_base.py:3725\u001b[0m, in \u001b[0;36m_ureduce\u001b[0;34m(a, func, **kwargs)\u001b[0m\n\u001b[1;32m   3722\u001b[0m \u001b[39melse\u001b[39;00m:\n\u001b[1;32m   3723\u001b[0m     keepdim \u001b[39m=\u001b[39m (\u001b[39m1\u001b[39m,) \u001b[39m*\u001b[39m a\u001b[39m.\u001b[39mndim\n\u001b[0;32m-> 3725\u001b[0m r \u001b[39m=\u001b[39m func(a, \u001b[39m*\u001b[39;49m\u001b[39m*\u001b[39;49mkwargs)\n\u001b[1;32m   3726\u001b[0m \u001b[39mreturn\u001b[39;00m r, keepdim\n",
      "File \u001b[0;32m~/anaconda3/envs/lcodec/lib/python3.9/site-packages/numpy/lib/function_base.py:4593\u001b[0m, in \u001b[0;36m_quantile_ureduce_func\u001b[0;34m(a, q, axis, out, overwrite_input, method)\u001b[0m\n\u001b[1;32m   4591\u001b[0m     \u001b[39melse\u001b[39;00m:\n\u001b[1;32m   4592\u001b[0m         arr \u001b[39m=\u001b[39m a\u001b[39m.\u001b[39mcopy()\n\u001b[0;32m-> 4593\u001b[0m result \u001b[39m=\u001b[39m _quantile(arr,\n\u001b[1;32m   4594\u001b[0m                    quantiles\u001b[39m=\u001b[39;49mq,\n\u001b[1;32m   4595\u001b[0m                    axis\u001b[39m=\u001b[39;49maxis,\n\u001b[1;32m   4596\u001b[0m                    method\u001b[39m=\u001b[39;49mmethod,\n\u001b[1;32m   4597\u001b[0m                    out\u001b[39m=\u001b[39;49mout)\n\u001b[1;32m   4598\u001b[0m \u001b[39mreturn\u001b[39;00m result\n",
      "File \u001b[0;32m~/anaconda3/envs/lcodec/lib/python3.9/site-packages/numpy/lib/function_base.py:4691\u001b[0m, in \u001b[0;36m_quantile\u001b[0;34m(arr, quantiles, axis, method, out)\u001b[0m\n\u001b[1;32m   4687\u001b[0m previous_indexes, next_indexes \u001b[39m=\u001b[39m _get_indexes(arr,\n\u001b[1;32m   4688\u001b[0m                                               virtual_indexes,\n\u001b[1;32m   4689\u001b[0m                                               values_count)\n\u001b[1;32m   4690\u001b[0m \u001b[39m# --- Sorting\u001b[39;00m\n\u001b[0;32m-> 4691\u001b[0m arr\u001b[39m.\u001b[39;49mpartition(\n\u001b[1;32m   4692\u001b[0m     np\u001b[39m.\u001b[39;49munique(np\u001b[39m.\u001b[39;49mconcatenate(([\u001b[39m0\u001b[39;49m, \u001b[39m-\u001b[39;49m\u001b[39m1\u001b[39;49m],\n\u001b[1;32m   4693\u001b[0m                               previous_indexes\u001b[39m.\u001b[39;49mravel(),\n\u001b[1;32m   4694\u001b[0m                               next_indexes\u001b[39m.\u001b[39;49mravel(),\n\u001b[1;32m   4695\u001b[0m                               ))),\n\u001b[1;32m   4696\u001b[0m     axis\u001b[39m=\u001b[39;49mDATA_AXIS)\n\u001b[1;32m   4697\u001b[0m \u001b[39mif\u001b[39;00m np\u001b[39m.\u001b[39missubdtype(arr\u001b[39m.\u001b[39mdtype, np\u001b[39m.\u001b[39minexact):\n\u001b[1;32m   4698\u001b[0m     slices_having_nans \u001b[39m=\u001b[39m np\u001b[39m.\u001b[39misnan(\n\u001b[1;32m   4699\u001b[0m         take(arr, indices\u001b[39m=\u001b[39m\u001b[39m-\u001b[39m\u001b[39m1\u001b[39m, axis\u001b[39m=\u001b[39mDATA_AXIS)\n\u001b[1;32m   4700\u001b[0m     )\n",
      "\u001b[0;31mKeyboardInterrupt\u001b[0m: "
     ]
    }
   ],
   "source": [
    "results = []\n",
    "\n",
    "for alpha in np.arange(0.05, 1, 0.05):\n",
    "    q_hat = qhat(scores, alpha)\n",
    "\n",
    "    conf_low, conf_high = get_conf_interval(orig_expl, q_hat)\n",
    "    \n",
    "    coverage_prob = calc_coverage_prob(test_expls, conf_low, conf_high)\n",
    "\n",
    "    zc_rate = zero_contain_rate(conf_high, conf_low)\n",
    "\n",
    "    # print(np.mean(coverage_prob))\n",
    "    results.append({\n",
    "        'img': img,\n",
    "        'expl_method': expl_method,\n",
    "        'alpha': alpha,\n",
    "        'coverage_prob': coverage_prob,\n",
    "        'zero_contain_rate': zc_rate,\n",
    "        'conf_high': conf_high,\n",
    "        'conf_low': conf_low\n",
    "    })\n",
    "\n"
   ]
  },
  {
   "cell_type": "code",
   "execution_count": null,
   "metadata": {},
   "outputs": [],
   "source": []
  }
 ],
 "metadata": {
  "kernelspec": {
   "display_name": "lcodec",
   "language": "python",
   "name": "python3"
  },
  "language_info": {
   "codemirror_mode": {
    "name": "ipython",
    "version": 3
   },
   "file_extension": ".py",
   "mimetype": "text/x-python",
   "name": "python",
   "nbconvert_exporter": "python",
   "pygments_lexer": "ipython3",
   "version": "3.9.12"
  },
  "orig_nbformat": 4,
  "vscode": {
   "interpreter": {
    "hash": "2055d8db55d9e03c38dbc512df7d030fe120f04219cb81e9a61525ce7e8aa45b"
   }
  }
 },
 "nbformat": 4,
 "nbformat_minor": 2
}
