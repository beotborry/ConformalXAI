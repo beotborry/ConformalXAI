{
 "cells": [
  {
   "cell_type": "code",
   "execution_count": 110,
   "metadata": {},
   "outputs": [],
   "source": [
    "from torchvision.models import resnet50, ResNet50_Weights\n",
    "import numpy as np\n",
    "import os\n",
    "from transform_factory import tensorize, center_crop_224, resize_322, imagenet_normalize\n",
    "from PIL import Image\n",
    "import torch.nn.functional as F\n",
    "import torch\n",
    "import matplotlib.pyplot as plt"
   ]
  },
  {
   "cell_type": "code",
   "execution_count": 129,
   "metadata": {},
   "outputs": [],
   "source": [
    "# config\n",
    "seed = 3\n",
    "data_num = 7\n",
    "expl_method = \"LayerXAct\""
   ]
  },
  {
   "cell_type": "code",
   "execution_count": 130,
   "metadata": {},
   "outputs": [],
   "source": [
    "model = resnet50(weights=ResNet50_Weights.DEFAULT).eval()"
   ]
  },
  {
   "cell_type": "code",
   "execution_count": 131,
   "metadata": {},
   "outputs": [],
   "source": [
    "with open(f\"./val_seed_{seed}.npy\", \"rb\") as f:\n",
    "    filepath_list = np.load(f)\n",
    "\n",
    "orig_imgs = []\n",
    "orig_expls = []\n",
    "\n",
    "\n",
    "for img_path in filepath_list[:data_num]:\n",
    "    img_name = os.path.basename(img_path)\n",
    "\n",
    "    orig_img = Image.open(img_path)\n",
    "    orig_img = imagenet_normalize(tensorize(center_crop_224(resize_322(orig_img))))\n",
    "\n",
    "    orig_imgs.append(orig_img)\n",
    "\n",
    "    with open(f\"results/val_seed_{seed}_pred_orig_eval_orig_transform_both_sign_all_reduction_sum/{img_name}_expl_{expl_method}_sample_2000_sigma_0.05_seed_{seed}_orig_true_config.npy\", \"rb\") as f:\n",
    "        orig_expl = np.load(f, allow_pickle=True)\n",
    "        true_expls = np.load(f, allow_pickle=True)\n",
    "        configs = np.load(f, allow_pickle=True)\n",
    "\n",
    "        orig_expl = F.interpolate(torch.tensor(orig_expl).unsqueeze(0), (224, 224), mode='bilinear').squeeze(0).numpy()\n",
    "\n",
    "        orig_expls.append(orig_expl)\n",
    "\n",
    "\n",
    "orig_imgs = torch.stack(orig_imgs)\n",
    "orig_expls = torch.tensor(np.stack(orig_expls))\n"
   ]
  },
  {
   "cell_type": "code",
   "execution_count": 132,
   "metadata": {},
   "outputs": [
    {
     "data": {
      "text/plain": [
       "torch.Size([7, 1, 224, 224])"
      ]
     },
     "execution_count": 132,
     "metadata": {},
     "output_type": "execute_result"
    }
   ],
   "source": [
    "orig_imgs.shape\n",
    "orig_expls.shape"
   ]
  },
  {
   "cell_type": "code",
   "execution_count": 133,
   "metadata": {},
   "outputs": [],
   "source": [
    "y = model(orig_imgs).argmax(dim = 1)"
   ]
  },
  {
   "cell_type": "code",
   "execution_count": 134,
   "metadata": {},
   "outputs": [],
   "source": [
    "class AOPCTestor():\n",
    "    def __init__(self, model) -> None:\n",
    "        self.model = model\n",
    "        self.softmax = torch.nn.Softmax(dim = 1)\n",
    "\n",
    "\n",
    "    @staticmethod\n",
    "    def perturbation(expl, img, ratio, mode=\"insertion\"):\n",
    "    # expl : [B, C=1, H, W]\n",
    "    # img : [B, C=3, H, W]\n",
    "        order = expl.flatten(1).argsort(descending=True)\n",
    "        n_perturb = int(ratio * order.shape[1])\n",
    "        n_order = order[:, n_perturb] \n",
    "        threshold = expl.flatten(1)[range(len(expl)), n_order]\n",
    "\n",
    "        if mode == \"insertion\":\n",
    "            mask = expl > threshold.reshape(len(expl), 1, 1).unsqueeze(1)\n",
    "        elif mode == \"deletion\":\n",
    "            mask = expl < threshold.reshape(len(expl), 1, 1).unsqueeze(1)        \n",
    "        return (img * mask).detach()\n",
    "\n",
    "    @staticmethod\n",
    "    def conf_perturbation(expl, img, ratio, conf_high, conf_low, mode=\"insertion\"):\n",
    "        attr_order = expl.flatten(1).argsort(descending = True)\n",
    "        \n",
    "\n",
    "    def test_step(self, expl, img, label, mode=\"orig\"):\n",
    "        prob_list = []\n",
    "        for ratio in np.arange(0, 1, 0.05):\n",
    "\n",
    "            # if mode == \"orig\":\n",
    "            img_p = self.perturbation(expl, img, ratio=ratio, mode=mode)\n",
    "            # else:\n",
    "                # img_p = self.conf_perturbation(expl, img, ratio=ratio)\n",
    "\n",
    "            logit = self.model(img_p)\n",
    "            prob = self.softmax(logit)\n",
    "\n",
    "            aopc_prob = prob[range(len(label)), label].detach().mean()\n",
    "            prob_list.append(aopc_prob)\n",
    "\n",
    "        return prob_list"
   ]
  },
  {
   "cell_type": "code",
   "execution_count": 142,
   "metadata": {},
   "outputs": [],
   "source": [
    "tester = AOPCTestor(model=model)\n",
    "prob_list = tester.test_step(orig_expls, orig_imgs, y, mode=\"insertion\")"
   ]
  },
  {
   "cell_type": "code",
   "execution_count": 143,
   "metadata": {},
   "outputs": [
    {
     "name": "stdout",
     "output_type": "stream",
     "text": [
      "[tensor(0.0007), tensor(0.0673), tensor(0.1571), tensor(0.2805), tensor(0.4405), tensor(0.4561), tensor(0.4427), tensor(0.4996), tensor(0.5040), tensor(0.5154), tensor(0.5757), tensor(0.6047), tensor(0.6672), tensor(0.6676), tensor(0.6514), tensor(0.6882), tensor(0.6874), tensor(0.6525), tensor(0.6697), tensor(0.6824)] tensor(0.4955)\n"
     ]
    }
   ],
   "source": [
    "print(prob_list, torch.stack(prob_list).mean())"
   ]
  },
  {
   "cell_type": "code",
   "execution_count": 144,
   "metadata": {},
   "outputs": [
    {
     "name": "stderr",
     "output_type": "stream",
     "text": [
      "/tmp/ipykernel_975213/1601673765.py:14: UserWarning: To copy construct from a tensor, it is recommended to use sourceTensor.clone().detach() or sourceTensor.clone().detach().requires_grad_(True), rather than torch.tensor(sourceTensor).\n",
      "  conf_highs.append(torch.tensor(result['conf_high']))\n",
      "/tmp/ipykernel_975213/1601673765.py:15: UserWarning: To copy construct from a tensor, it is recommended to use sourceTensor.clone().detach() or sourceTensor.clone().detach().requires_grad_(True), rather than torch.tensor(sourceTensor).\n",
      "  conf_lows.append(torch.tensor(result['conf_low']))\n"
     ]
    }
   ],
   "source": [
    "conf_highs = []\n",
    "conf_lows = []\n",
    "\n",
    "alpha = 0.05\n",
    "\n",
    "for img_path in filepath_list[:data_num]:\n",
    "    img_name = os.path.basename(img_path)\n",
    "    \n",
    "    with open(f\"results/val_seed_{seed}_pred_orig_eval_orig_transform_both_sign_all_reduction_sum/{img_name}_expl_{expl_method}_sample_2000_sigma_0.05_seed_{seed}_results.pkl\", \"rb\") as f:\n",
    "        results = np.load(f, allow_pickle=True)\n",
    "\n",
    "    result = results[int(alpha / 0.05)]\n",
    "\n",
    "    conf_highs.append(torch.tensor(result['conf_high']))\n",
    "    conf_lows.append(torch.tensor(result['conf_low']))\n",
    "\n",
    "\n",
    "conf_highs = torch.stack(conf_highs)\n",
    "conf_lows = torch.stack(conf_lows)"
   ]
  },
  {
   "cell_type": "code",
   "execution_count": 145,
   "metadata": {},
   "outputs": [],
   "source": [
    "tester = AOPCTestor(model=model)\n",
    "# tester.test_step(conf_lows, orig_imgs, y, mode='deletion')\n",
    "high_prob_list = tester.test_step(conf_highs, orig_imgs, y, mode='deletion')\n"
   ]
  },
  {
   "cell_type": "code",
   "execution_count": 146,
   "metadata": {},
   "outputs": [
    {
     "name": "stdout",
     "output_type": "stream",
     "text": [
      "[tensor(0.6810), tensor(0.6516), tensor(0.6147), tensor(0.6055), tensor(0.5416), tensor(0.4369), tensor(0.4124), tensor(0.3771), tensor(0.2613), tensor(0.1978), tensor(0.1859), tensor(0.1885), tensor(0.1092), tensor(0.1035), tensor(0.1372), tensor(0.1273), tensor(0.0766), tensor(0.0445), tensor(0.0083), tensor(0.0027)] tensor(0.2882)\n"
     ]
    }
   ],
   "source": [
    "print(high_prob_list, torch.stack(high_prob_list).mean())\n"
   ]
  },
  {
   "cell_type": "code",
   "execution_count": 147,
   "metadata": {},
   "outputs": [],
   "source": [
    "low_prob_list = tester.test_step(conf_lows, orig_imgs, y, mode='insertion')\n"
   ]
  },
  {
   "cell_type": "code",
   "execution_count": 148,
   "metadata": {},
   "outputs": [
    {
     "name": "stdout",
     "output_type": "stream",
     "text": [
      "[tensor(0.0007), tensor(0.0958), tensor(0.2401), tensor(0.3177), tensor(0.4049), tensor(0.4452), tensor(0.5223), tensor(0.5074), tensor(0.4951), tensor(0.6043), tensor(0.5396), tensor(0.5700), tensor(0.5866), tensor(0.6275), tensor(0.6755), tensor(0.6619), tensor(0.6581), tensor(0.6846), tensor(0.6839), tensor(0.6946)] tensor(0.5008)\n"
     ]
    }
   ],
   "source": [
    "print(low_prob_list, torch.stack(low_prob_list).mean())\n"
   ]
  },
  {
   "cell_type": "code",
   "execution_count": null,
   "metadata": {},
   "outputs": [],
   "source": []
  }
 ],
 "metadata": {
  "kernelspec": {
   "display_name": "lcodec",
   "language": "python",
   "name": "python3"
  },
  "language_info": {
   "codemirror_mode": {
    "name": "ipython",
    "version": 3
   },
   "file_extension": ".py",
   "mimetype": "text/x-python",
   "name": "python",
   "nbconvert_exporter": "python",
   "pygments_lexer": "ipython3",
   "version": "3.9.12"
  },
  "orig_nbformat": 4,
  "vscode": {
   "interpreter": {
    "hash": "2055d8db55d9e03c38dbc512df7d030fe120f04219cb81e9a61525ce7e8aa45b"
   }
  }
 },
 "nbformat": 4,
 "nbformat_minor": 2
}
