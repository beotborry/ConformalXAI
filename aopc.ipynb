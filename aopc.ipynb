{
 "cells": [
  {
   "cell_type": "code",
   "execution_count": 42,
   "metadata": {},
   "outputs": [],
   "source": [
    "from torchvision.models import resnet50, ResNet50_Weights\n",
    "import numpy as np\n",
    "import os\n",
    "from transform_factory import tensorize, center_crop_224, resize_322, imagenet_normalize, resize_224\n",
    "from PIL import Image\n",
    "import torch.nn.functional as F\n",
    "import torch\n",
    "import matplotlib.pyplot as plt"
   ]
  },
  {
   "cell_type": "code",
   "execution_count": 43,
   "metadata": {},
   "outputs": [],
   "source": [
    "# config\n",
    "seed = 0\n",
    "data_num = 30\n",
    "# expl_method = \"GradCAM\"\n",
    "expl_method = \"LayerXAct\""
   ]
  },
  {
   "cell_type": "code",
   "execution_count": 44,
   "metadata": {},
   "outputs": [],
   "source": [
    "model = resnet50(weights=ResNet50_Weights.DEFAULT).eval()"
   ]
  },
  {
   "cell_type": "code",
   "execution_count": 62,
   "metadata": {},
   "outputs": [],
   "source": [
    "with open(f\"./val_seed_{seed}.npy\", \"rb\") as f:\n",
    "    filepath_list = np.load(f)\n",
    "\n",
    "orig_imgs = []\n",
    "orig_imgs_for_y = []\n",
    "orig_expls = []\n",
    "\n",
    "\n",
    "for img_path in filepath_list[:data_num]:\n",
    "    img_name = os.path.basename(img_path)\n",
    "\n",
    "    orig_img_pil = Image.open(img_path)\n",
    "    orig_img = imagenet_normalize(tensorize(center_crop_224(resize_322(orig_img_pil))))\n",
    "    orig_img_for_y = imagenet_normalize(tensorize(resize_224(orig_img_pil)))\n",
    "\n",
    "    orig_imgs.append(orig_img)\n",
    "    orig_imgs_for_y.append(orig_img_for_y)\n",
    "\n",
    "    with open(f\"results/val_seed_{seed}_pred_orig_eval_orig_transform_both_sign_all_reduction_sum/{img_name}_expl_{expl_method}_sample_2000_sigma_0.05_seed_{seed}_orig_true_config.npy\", \"rb\") as f:\n",
    "        orig_expl = np.load(f, allow_pickle=True)\n",
    "        true_expls = np.load(f, allow_pickle=True)\n",
    "        configs = np.load(f, allow_pickle=True)\n",
    "\n",
    "        orig_expl = F.interpolate(torch.tensor(orig_expl).unsqueeze(0), (224, 224), mode='bicubic').squeeze(0).numpy()\n",
    "        # orig_expl = center_crop_224(F.interpolate(torch.tensor(orig_expl).unsqueeze(0), (322, 322), mode='bicubic')).squeeze(0).numpy()\n",
    "\n",
    "        orig_expls.append(orig_expl)\n",
    "\n",
    "\n",
    "orig_imgs = torch.stack(orig_imgs)\n",
    "orig_imgs_for_y = torch.stack(orig_imgs_for_y)\n",
    "orig_expls = torch.tensor(np.stack(orig_expls))\n"
   ]
  },
  {
   "cell_type": "code",
   "execution_count": 63,
   "metadata": {},
   "outputs": [
    {
     "data": {
      "text/plain": [
       "torch.Size([30, 3, 224, 224])"
      ]
     },
     "execution_count": 63,
     "metadata": {},
     "output_type": "execute_result"
    }
   ],
   "source": [
    "orig_imgs.shape\n",
    "orig_expls.shape\n",
    "orig_imgs_for_y.shape"
   ]
  },
  {
   "cell_type": "code",
   "execution_count": 64,
   "metadata": {},
   "outputs": [],
   "source": [
    "y = model(orig_imgs_for_y).argmax(dim = 1)"
   ]
  },
  {
   "cell_type": "code",
   "execution_count": 65,
   "metadata": {},
   "outputs": [],
   "source": [
    "class AOPCTestor():\n",
    "    def __init__(self, model) -> None:\n",
    "        self.model = model\n",
    "        self.softmax = torch.nn.Softmax(dim = 1)\n",
    "\n",
    "\n",
    "    @staticmethod\n",
    "    def perturbation(expl, img, ratio, mode=\"insertion\"):\n",
    "    # expl : [B, C=1, H, W]\n",
    "    # img : [B, C=3, H, W]\n",
    "        order = expl.flatten(1).argsort(descending=True)\n",
    "        n_perturb = int(ratio * order.shape[1])\n",
    "        n_order = order[:, n_perturb] \n",
    "        threshold = expl.flatten(1)[range(len(expl)), n_order]\n",
    "\n",
    "        if mode == \"insertion\":\n",
    "            mask = expl > threshold.reshape(len(expl), 1, 1).unsqueeze(1)\n",
    "        elif mode == \"deletion\":\n",
    "            mask = expl < threshold.reshape(len(expl), 1, 1).unsqueeze(1)        \n",
    "        return (img * mask).detach()\n",
    "\n",
    "    @staticmethod\n",
    "    def conf_perturbation(expl, img, ratio, conf_high, conf_low, mode=\"insertion\"):\n",
    "        attr_order = expl.flatten(1).argsort(descending = True)\n",
    "        \n",
    "\n",
    "    def test_step(self, expl, img, label, mode=\"orig\"):\n",
    "        prob_list = []\n",
    "        for ratio in np.arange(0, 1, 0.05):\n",
    "\n",
    "            # if mode == \"orig\":\n",
    "            img_p = self.perturbation(expl, img, ratio=ratio, mode=mode)\n",
    "            # else:\n",
    "                # img_p = self.conf_perturbation(expl, img, ratio=ratio)\n",
    "\n",
    "            logit = self.model(img_p)\n",
    "            prob = self.softmax(logit)\n",
    "\n",
    "            aopc_prob = prob[range(len(label)), label].detach().mean()\n",
    "            prob_list.append(aopc_prob)\n",
    "\n",
    "        return prob_list"
   ]
  },
  {
   "cell_type": "code",
   "execution_count": 66,
   "metadata": {},
   "outputs": [],
   "source": [
    "tester = AOPCTestor(model=model)\n",
    "# prob_list = tester.test_step(orig_expls, orig_imgs, y, mode=\"insertion\")\n",
    "prob_list = tester.test_step(orig_expls, orig_imgs_for_y, y, mode=\"insertion\")\n"
   ]
  },
  {
   "cell_type": "code",
   "execution_count": 55,
   "metadata": {},
   "outputs": [],
   "source": [
    "prob_list_del = tester.test_step(orig_expls, orig_imgs, y, mode=\"deletion\")"
   ]
  },
  {
   "cell_type": "code",
   "execution_count": 67,
   "metadata": {},
   "outputs": [
    {
     "name": "stdout",
     "output_type": "stream",
     "text": [
      "[tensor(0.0012), tensor(0.0413), tensor(0.1309), tensor(0.2785), tensor(0.4856), tensor(0.6312), tensor(0.7607), tensor(0.7719), tensor(0.8228), tensor(0.8693), tensor(0.8904), tensor(0.9140), tensor(0.9411), tensor(0.9506), tensor(0.9518), tensor(0.9633), tensor(0.9680), tensor(0.9746), tensor(0.9745), tensor(0.9766)] tensor(0.7149)\n"
     ]
    }
   ],
   "source": [
    "print(prob_list, torch.stack(prob_list).mean())"
   ]
  },
  {
   "cell_type": "code",
   "execution_count": 38,
   "metadata": {},
   "outputs": [
    {
     "name": "stdout",
     "output_type": "stream",
     "text": [
      "[tensor(0.8120), tensor(0.7673), tensor(0.7153), tensor(0.6710), tensor(0.6178), tensor(0.5611), tensor(0.5047), tensor(0.4754), tensor(0.4154), tensor(0.3272), tensor(0.2551), tensor(0.2051), tensor(0.1845), tensor(0.1582), tensor(0.1218), tensor(0.0952), tensor(0.0747), tensor(0.0557), tensor(0.0385), tensor(0.0042)] tensor(0.3530)\n"
     ]
    }
   ],
   "source": [
    "print(prob_list_del, torch.stack(prob_list_del).mean())"
   ]
  },
  {
   "cell_type": "code",
   "execution_count": 58,
   "metadata": {},
   "outputs": [
    {
     "name": "stderr",
     "output_type": "stream",
     "text": [
      "/tmp/ipykernel_1185426/3620751573.py:14: UserWarning: To copy construct from a tensor, it is recommended to use sourceTensor.clone().detach() or sourceTensor.clone().detach().requires_grad_(True), rather than torch.tensor(sourceTensor).\n",
      "  conf_highs.append(torch.tensor(result['conf_high']))\n",
      "/tmp/ipykernel_1185426/3620751573.py:15: UserWarning: To copy construct from a tensor, it is recommended to use sourceTensor.clone().detach() or sourceTensor.clone().detach().requires_grad_(True), rather than torch.tensor(sourceTensor).\n",
      "  conf_lows.append(torch.tensor(result['conf_low']))\n"
     ]
    }
   ],
   "source": [
    "conf_highs = []\n",
    "conf_lows = []\n",
    "\n",
    "alpha = 0.05\n",
    "\n",
    "for img_path in filepath_list[:data_num]:\n",
    "    img_name = os.path.basename(img_path)\n",
    "    \n",
    "    with open(f\"results/val_seed_{seed}_pred_orig_eval_orig_transform_both_sign_all_reduction_sum/{img_name}_expl_{expl_method}_sample_2000_sigma_0.05_seed_{seed}_results.pkl\", \"rb\") as f:\n",
    "        results = np.load(f, allow_pickle=True)\n",
    "\n",
    "    result = results[0]\n",
    "\n",
    "    conf_highs.append(torch.tensor(result['conf_high']))\n",
    "    conf_lows.append(torch.tensor(result['conf_low']))\n",
    "\n",
    "\n",
    "conf_highs = torch.stack(conf_highs)\n",
    "conf_lows = torch.stack(conf_lows)"
   ]
  },
  {
   "cell_type": "code",
   "execution_count": 24,
   "metadata": {},
   "outputs": [],
   "source": [
    "tester = AOPCTestor(model=model)\n",
    "# tester.test_step(conf_lows, orig_imgs, y, mode='deletion')\n",
    "high_prob_list = tester.test_step(conf_highs, orig_imgs, y, mode='deletion')\n"
   ]
  },
  {
   "cell_type": "code",
   "execution_count": 25,
   "metadata": {},
   "outputs": [
    {
     "name": "stdout",
     "output_type": "stream",
     "text": [
      "[tensor(0.8328), tensor(0.7733), tensor(0.7317), tensor(0.6671), tensor(0.6061), tensor(0.5808), tensor(0.4860), tensor(0.4285), tensor(0.3537), tensor(0.3287), tensor(0.2884), tensor(0.2428), tensor(0.2171), tensor(0.1666), tensor(0.1176), tensor(0.0797), tensor(0.0418), tensor(0.0127), tensor(0.0072), tensor(0.0100)] tensor(0.3486)\n"
     ]
    }
   ],
   "source": [
    "print(high_prob_list, torch.stack(high_prob_list).mean())\n"
   ]
  },
  {
   "cell_type": "code",
   "execution_count": 59,
   "metadata": {},
   "outputs": [],
   "source": [
    "low_prob_list = tester.test_step(conf_highs, orig_imgs, y, mode='insertion')\n"
   ]
  },
  {
   "cell_type": "code",
   "execution_count": 60,
   "metadata": {},
   "outputs": [
    {
     "name": "stdout",
     "output_type": "stream",
     "text": [
      "[tensor(0.0012), tensor(0.0105), tensor(0.0766), tensor(0.1554), tensor(0.2122), tensor(0.2698), tensor(0.3795), tensor(0.4346), tensor(0.5180), tensor(0.5900), tensor(0.6385), tensor(0.6707), tensor(0.6889), tensor(0.7135), tensor(0.7261), tensor(0.7459), tensor(0.7724), tensor(0.7814), tensor(0.7903), tensor(0.8063)] tensor(0.4991)\n"
     ]
    }
   ],
   "source": [
    "print(low_prob_list, torch.stack(low_prob_list).mean())\n"
   ]
  },
  {
   "cell_type": "code",
   "execution_count": 61,
   "metadata": {},
   "outputs": [
    {
     "data": {
      "text/plain": [
       "[<matplotlib.lines.Line2D at 0x7fab2ea5c6a0>]"
      ]
     },
     "execution_count": 61,
     "metadata": {},
     "output_type": "execute_result"
    },
    {
     "data": {
      "image/png": "[encoded data removed]",
      "text/plain": [
       "<Figure size 640x480 with 1 Axes>"
      ]
     },
     "metadata": {},
     "output_type": "display_data"
    }
   ],
   "source": [
    "plt.plot(np.arange(0, 1, 0.05), prob_list)\n",
    "plt.plot(np.arange(0, 1, 0.05), low_prob_list)\n"
   ]
  },
  {
   "cell_type": "code",
   "execution_count": 27,
   "metadata": {},
   "outputs": [
    {
     "data": {
      "text/plain": [
       "[<matplotlib.lines.Line2D at 0x7fab2fa25550>]"
      ]
     },
     "execution_count": 27,
     "metadata": {},
     "output_type": "execute_result"
    },
    {
     "data": {
      "image/png": "[encoded data removed]",
      "text/plain": [
       "<Figure size 640x480 with 1 Axes>"
      ]
     },
     "metadata": {},
     "output_type": "display_data"
    }
   ],
   "source": [
    "plt.plot(np.arange(0, 1, 0.05), prob_list_del)\n",
    "plt.plot(np.arange(0, 1, 0.05), high_prob_list)"
   ]
  },
  {
   "cell_type": "code",
   "execution_count": null,
   "metadata": {},
   "outputs": [],
   "source": []
  }
 ],
 "metadata": {
  "kernelspec": {
   "display_name": "lcodec",
   "language": "python",
   "name": "python3"
  },
  "language_info": {
   "codemirror_mode": {
    "name": "ipython",
    "version": 3
   },
   "file_extension": ".py",
   "mimetype": "text/x-python",
   "name": "python",
   "nbconvert_exporter": "python",
   "pygments_lexer": "ipython3",
   "version": "3.9.12"
  },
  "orig_nbformat": 4,
  "vscode": {
   "interpreter": {
    "hash": "2055d8db55d9e03c38dbc512df7d030fe120f04219cb81e9a61525ce7e8aa45b"
   }
  }
 },
 "nbformat": 4,
 "nbformat_minor": 2
}
