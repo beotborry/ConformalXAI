{
 "cells": [
  {
   "cell_type": "code",
   "execution_count": 1,
   "metadata": {},
   "outputs": [],
   "source": [
    "from torchvision.models import resnet50, ResNet50_Weights\n",
    "import numpy as np\n",
    "import os\n",
    "from transform_factory import tensorize, center_crop_224, resize_322, imagenet_normalize\n",
    "from PIL import Image\n",
    "import torch.nn.functional as F\n",
    "import torch\n",
    "import matplotlib.pyplot as plt"
   ]
  },
  {
   "cell_type": "code",
   "execution_count": 2,
   "metadata": {},
   "outputs": [],
   "source": [
    "# config\n",
    "seed = 0\n",
    "expl_method = \"LayerXAct\""
   ]
  },
  {
   "cell_type": "code",
   "execution_count": 3,
   "metadata": {},
   "outputs": [],
   "source": [
    "model = resnet50(weights=ResNet50_Weights.DEFAULT).eval()"
   ]
  },
  {
   "cell_type": "code",
   "execution_count": 4,
   "metadata": {},
   "outputs": [],
   "source": [
    "with open(f\"./val_seed_{seed}.npy\", \"rb\") as f:\n",
    "    filepath_list = np.load(f)\n",
    "\n",
    "orig_imgs = []\n",
    "orig_expls = []\n",
    "\n",
    "\n",
    "for img_path in filepath_list[:60]:\n",
    "    img_name = os.path.basename(img_path)\n",
    "\n",
    "    orig_img = Image.open(img_path)\n",
    "    orig_img = imagenet_normalize(tensorize(center_crop_224(resize_322(orig_img))))\n",
    "\n",
    "    orig_imgs.append(orig_img)\n",
    "\n",
    "    with open(f\"results/val_seed_{seed}_pred_orig_eval_orig_transform_both_sign_all_reduction_sum/{img_name}_expl_{expl_method}_sample_2000_sigma_0.05_seed_{seed}_orig_true_config.npy\", \"rb\") as f:\n",
    "        orig_expl = np.load(f, allow_pickle=True)\n",
    "        true_expls = np.load(f, allow_pickle=True)\n",
    "        configs = np.load(f, allow_pickle=True)\n",
    "\n",
    "        orig_expl = F.interpolate(torch.tensor(orig_expl).unsqueeze(0), (224, 224), mode='bilinear').squeeze(0).numpy()\n",
    "\n",
    "        orig_expls.append(orig_expl)\n",
    "\n",
    "\n",
    "orig_imgs = torch.stack(orig_imgs)\n",
    "orig_expls = torch.tensor(np.stack(orig_expls))\n"
   ]
  },
  {
   "cell_type": "code",
   "execution_count": 5,
   "metadata": {},
   "outputs": [
    {
     "data": {
      "text/plain": [
       "torch.Size([60, 1, 224, 224])"
      ]
     },
     "execution_count": 5,
     "metadata": {},
     "output_type": "execute_result"
    }
   ],
   "source": [
    "orig_imgs.shape\n",
    "orig_expls.shape"
   ]
  },
  {
   "cell_type": "code",
   "execution_count": 6,
   "metadata": {},
   "outputs": [],
   "source": [
    "y = model(orig_imgs).argmax(dim = 1)"
   ]
  },
  {
   "cell_type": "code",
   "execution_count": 13,
   "metadata": {},
   "outputs": [],
   "source": [
    "class AOPCTestor():\n",
    "    def __init__(self, model) -> None:\n",
    "        self.model = model\n",
    "        self.softmax = torch.nn.Softmax(dim = 1)\n",
    "\n",
    "\n",
    "    @staticmethod\n",
    "    def perturbation(expl, img, ratio, mode=\"insertion\"):\n",
    "    # expl : [B, C=1, H, W]\n",
    "    # img : [B, C=3, H, W]\n",
    "        order = expl.flatten(1).argsort(descending=True)\n",
    "        n_perturb = int(ratio * order.shape[1])\n",
    "        n_order = order[:, n_perturb] \n",
    "        threshold = expl.flatten(1)[range(len(expl)), n_order]\n",
    "\n",
    "        if mode == \"insertion\":\n",
    "            mask = expl > threshold.reshape(len(expl), 1, 1).unsqueeze(1)\n",
    "        elif mode == \"deletion\":\n",
    "            mask = expl < threshold.reshape(len(expl), 1, 1).unsqueeze(1)        \n",
    "        return (img * mask).detach()\n",
    "\n",
    "    @staticmethod\n",
    "    def conf_perturbation(expl, img, ratio, mode=\"insertion\"):\n",
    "        order = expl.flatten(1).argsort(descending = True)\n",
    "\n",
    "    def test_step(self, expl, img, label, mode=\"orig\"):\n",
    "        for ratio in np.arange(0, 1, 0.05):\n",
    "\n",
    "            # if mode == \"orig\":\n",
    "            img_p = self.perturbation(expl, img, ratio=ratio, mode=mode)\n",
    "            # else:\n",
    "                # img_p = self.conf_perturbation(expl, img, ratio=ratio)\n",
    "\n",
    "            logit = self.model(img_p)\n",
    "            prob = self.softmax(logit)\n",
    "\n",
    "            aopc_prob = prob[range(len(label)), label].detach().mean()\n",
    "            print(aopc_prob)\n"
   ]
  },
  {
   "cell_type": "code",
   "execution_count": 14,
   "metadata": {},
   "outputs": [
    {
     "name": "stdout",
     "output_type": "stream",
     "text": [
      "tensor(0.7970)\n",
      "tensor(0.7525)\n",
      "tensor(0.7331)\n",
      "tensor(0.6698)\n",
      "tensor(0.6286)\n",
      "tensor(0.5587)\n",
      "tensor(0.5047)\n",
      "tensor(0.4680)\n",
      "tensor(0.4318)\n",
      "tensor(0.3970)\n",
      "tensor(0.3448)\n",
      "tensor(0.2864)\n",
      "tensor(0.2550)\n",
      "tensor(0.2207)\n",
      "tensor(0.1773)\n",
      "tensor(0.1340)\n",
      "tensor(0.0861)\n",
      "tensor(0.0608)\n",
      "tensor(0.0226)\n",
      "tensor(0.0067)\n"
     ]
    }
   ],
   "source": [
    "tester = AOPCTestor(model=model)\n",
    "tester.test_step(orig_expls, orig_imgs, y, mode=\"deletion\")"
   ]
  },
  {
   "cell_type": "code",
   "execution_count": 15,
   "metadata": {},
   "outputs": [],
   "source": [
    "conf_highs = []\n",
    "conf_lows = []\n",
    "\n",
    "alpha = 0.05\n",
    "\n",
    "for img_path in filepath_list[:60]:\n",
    "    img_name = os.path.basename(img_path)\n",
    "    \n",
    "    with open(f\"results/val_seed_{seed}_pred_orig_eval_orig_transform_both_sign_all_reduction_sum/{img_name}_expl_{expl_method}_sample_2000_sigma_0.05_seed_{seed}_results.pkl\", \"rb\") as f:\n",
    "        results = np.load(f, allow_pickle=True)\n",
    "\n",
    "    result = results[int(alpha / 0.05)]\n",
    "\n",
    "    conf_highs.append(torch.tensor(result['conf_high']))\n",
    "    conf_lows.append(torch.tensor(result['conf_low']))\n",
    "\n",
    "\n",
    "conf_highs = torch.stack(conf_highs)\n",
    "conf_lows = torch.stack(conf_lows)"
   ]
  },
  {
   "cell_type": "code",
   "execution_count": 17,
   "metadata": {},
   "outputs": [
    {
     "name": "stdout",
     "output_type": "stream",
     "text": [
      "tensor(0.7947)\n",
      "tensor(0.7463)\n",
      "tensor(0.6975)\n",
      "tensor(0.6705)\n",
      "tensor(0.6470)\n",
      "tensor(0.6061)\n",
      "tensor(0.5746)\n",
      "tensor(0.5341)\n",
      "tensor(0.5231)\n",
      "tensor(0.5064)\n",
      "tensor(0.4614)\n",
      "tensor(0.4480)\n",
      "tensor(0.4294)\n",
      "tensor(0.3770)\n",
      "tensor(0.3579)\n",
      "tensor(0.3152)\n",
      "tensor(0.2666)\n",
      "tensor(0.2114)\n",
      "tensor(0.1080)\n",
      "tensor(0.0330)\n"
     ]
    }
   ],
   "source": [
    "tester = AOPCTestor(model=model)\n",
    "tester.test_step(conf_lows, orig_imgs, y, mode='deletion')"
   ]
  },
  {
   "cell_type": "code",
   "execution_count": null,
   "metadata": {},
   "outputs": [],
   "source": []
  }
 ],
 "metadata": {
  "kernelspec": {
   "display_name": "lcodec",
   "language": "python",
   "name": "python3"
  },
  "language_info": {
   "codemirror_mode": {
    "name": "ipython",
    "version": 3
   },
   "file_extension": ".py",
   "mimetype": "text/x-python",
   "name": "python",
   "nbconvert_exporter": "python",
   "pygments_lexer": "ipython3",
   "version": "3.9.12"
  },
  "orig_nbformat": 4,
  "vscode": {
   "interpreter": {
    "hash": "2055d8db55d9e03c38dbc512df7d030fe120f04219cb81e9a61525ce7e8aa45b"
   }
  }
 },
 "nbformat": 4,
 "nbformat_minor": 2
}
