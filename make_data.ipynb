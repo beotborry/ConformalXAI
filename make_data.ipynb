{
 "cells": [
  {
   "cell_type": "code",
   "execution_count": 1,
   "metadata": {},
   "outputs": [],
   "source": [
    "import numpy as np"
   ]
  },
  {
   "cell_type": "code",
   "execution_count": 2,
   "metadata": {},
   "outputs": [],
   "source": [
    "with open(\"./val_prob.npy\", \"rb\") as f:\n",
    "    arr = np.load(f)"
   ]
  },
  {
   "cell_type": "code",
   "execution_count": 3,
   "metadata": {},
   "outputs": [],
   "source": [
    "filepath_list = arr[:, 0]\n",
    "prob_list = arr[:, 1].astype(np.float64)\n"
   ]
  },
  {
   "cell_type": "code",
   "execution_count": 4,
   "metadata": {},
   "outputs": [
    {
     "name": "stdout",
     "output_type": "stream",
     "text": [
      "39142\n"
     ]
    }
   ],
   "source": [
    "print(len(filepath_list))"
   ]
  },
  {
   "cell_type": "code",
   "execution_count": 5,
   "metadata": {},
   "outputs": [
    {
     "data": {
      "text/plain": [
       "array([0.99583662, 0.99534827, 0.99409747, ..., 0.0269498 , 0.02192049,\n",
       "       0.02015124])"
      ]
     },
     "execution_count": 5,
     "metadata": {},
     "output_type": "execute_result"
    }
   ],
   "source": [
    "filepath = filepath_list[prob_list.argsort()[::-1]]\n",
    "prob = prob_list[prob_list.argsort()[::-1]]\n",
    "\n",
    "filepath\n",
    "prob"
   ]
  },
  {
   "cell_type": "code",
   "execution_count": 7,
   "metadata": {},
   "outputs": [
    {
     "data": {
      "text/plain": [
       "0.6210182905197144"
      ]
     },
     "execution_count": 7,
     "metadata": {},
     "output_type": "execute_result"
    }
   ],
   "source": []
  },
  {
   "cell_type": "code",
   "execution_count": 8,
   "metadata": {},
   "outputs": [
    {
     "data": {
      "text/plain": [
       "array(['/home/juhyeon/Imagenet/val/n04127249/ILSVRC2012_val_00024718.JPEG',\n",
       "       '/home/juhyeon/Imagenet/val/n04179913/ILSVRC2012_val_00035560.JPEG',\n",
       "       '/home/juhyeon/Imagenet/val/n03840681/ILSVRC2012_val_00039880.JPEG',\n",
       "       ...,\n",
       "       '/home/juhyeon/Imagenet/val/n03935335/ILSVRC2012_val_00037879.JPEG',\n",
       "       '/home/juhyeon/Imagenet/val/n01981276/ILSVRC2012_val_00004400.JPEG',\n",
       "       '/home/juhyeon/Imagenet/val/n01687978/ILSVRC2012_val_00037510.JPEG'],\n",
       "      dtype='<U65')"
      ]
     },
     "execution_count": 8,
     "metadata": {},
     "output_type": "execute_result"
    }
   ],
   "source": [
    "candidate = filepath[:5000]\n",
    "# np.random.shuffle(candidate)\n",
    "candidate"
   ]
  },
  {
   "cell_type": "code",
   "execution_count": 9,
   "metadata": {},
   "outputs": [],
   "source": [
    "for i in range(5):\n",
    "    with open(f\"val_seed_{i}.npy\", \"wb\") as f:\n",
    "        np.save(f, candidate[1000*i:1000*(i+1)]) "
   ]
  },
  {
   "cell_type": "code",
   "execution_count": 19,
   "metadata": {},
   "outputs": [],
   "source": [
    "with open(\"val_seed_4.npy\", \"rb\") as f:\n",
    "    arr = np.load(f)"
   ]
  },
  {
   "cell_type": "code",
   "execution_count": 20,
   "metadata": {},
   "outputs": [
    {
     "data": {
      "text/plain": [
       "(1000,)"
      ]
     },
     "execution_count": 20,
     "metadata": {},
     "output_type": "execute_result"
    }
   ],
   "source": [
    "arr.shape"
   ]
  },
  {
   "cell_type": "code",
   "execution_count": null,
   "metadata": {},
   "outputs": [],
   "source": []
  }
 ],
 "metadata": {
  "kernelspec": {
   "display_name": "lcodec",
   "language": "python",
   "name": "python3"
  },
  "language_info": {
   "codemirror_mode": {
    "name": "ipython",
    "version": 3
   },
   "file_extension": ".py",
   "mimetype": "text/x-python",
   "name": "python",
   "nbconvert_exporter": "python",
   "pygments_lexer": "ipython3",
   "version": "3.9.12"
  },
  "orig_nbformat": 4,
  "vscode": {
   "interpreter": {
    "hash": "2055d8db55d9e03c38dbc512df7d030fe120f04219cb81e9a61525ce7e8aa45b"
   }
  }
 },
 "nbformat": 4,
 "nbformat_minor": 2
}
