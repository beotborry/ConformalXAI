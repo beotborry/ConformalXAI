{
 "cells": [
  {
   "cell_type": "code",
   "execution_count": 1,
   "metadata": {},
   "outputs": [],
   "source": [
    "import numpy as np"
   ]
  },
  {
   "cell_type": "code",
   "execution_count": 2,
   "metadata": {},
   "outputs": [],
   "source": [
    "with open(\"./val_center_crop_224_prob.npy\", \"rb\") as f:\n",
    "    arr = np.load(f)"
   ]
  },
  {
   "cell_type": "code",
   "execution_count": 3,
   "metadata": {},
   "outputs": [
    {
     "name": "stdout",
     "output_type": "stream",
     "text": [
      "[['/home/juhyeon/Imagenet/val/n01440764/ILSVRC2012_val_00040833.JPEG'\n",
      "  '0.49198102951049805']\n",
      " ['/home/juhyeon/Imagenet/val/n01440764/ILSVRC2012_val_00041939.JPEG'\n",
      "  '0.5065478682518005']\n",
      " ['/home/juhyeon/Imagenet/val/n01440764/ILSVRC2012_val_00026397.JPEG'\n",
      "  '0.5071119666099548']\n",
      " ...\n",
      " ['/home/juhyeon/Imagenet/val/n15075141/ILSVRC2012_val_00021031.JPEG'\n",
      "  '0.1311289668083191']\n",
      " ['/home/juhyeon/Imagenet/val/n15075141/ILSVRC2012_val_00040010.JPEG'\n",
      "  '0.46880194544792175']\n",
      " ['/home/juhyeon/Imagenet/val/n15075141/ILSVRC2012_val_00045266.JPEG'\n",
      "  '0.22113725543022156']]\n"
     ]
    }
   ],
   "source": [
    "filepath_list = arr[:, 0]\n",
    "prob_list = arr[:, 1].astype(np.float64)\n",
    "\n",
    "print(arr)"
   ]
  },
  {
   "cell_type": "code",
   "execution_count": 4,
   "metadata": {},
   "outputs": [
    {
     "name": "stdout",
     "output_type": "stream",
     "text": [
      "39004\n"
     ]
    }
   ],
   "source": [
    "print(len(filepath_list))"
   ]
  },
  {
   "cell_type": "code",
   "execution_count": 5,
   "metadata": {},
   "outputs": [
    {
     "data": {
      "text/plain": [
       "array([0.99821246, 0.9964574 , 0.99615389, ..., 0.02344168, 0.02152444,\n",
       "       0.0205141 ])"
      ]
     },
     "execution_count": 5,
     "metadata": {},
     "output_type": "execute_result"
    }
   ],
   "source": [
    "filepath = filepath_list[prob_list.argsort()[::-1]]\n",
    "prob = prob_list[prob_list.argsort()[::-1]]\n",
    "\n",
    "filepath\n",
    "prob"
   ]
  },
  {
   "cell_type": "code",
   "execution_count": 7,
   "metadata": {},
   "outputs": [
    {
     "data": {
      "text/plain": [
       "0.6210182905197144"
      ]
     },
     "execution_count": 7,
     "metadata": {},
     "output_type": "execute_result"
    }
   ],
   "source": []
  },
  {
   "cell_type": "code",
   "execution_count": 13,
   "metadata": {},
   "outputs": [
    {
     "data": {
      "text/plain": [
       "array(['/home/juhyeon/Imagenet/val/n04127249/ILSVRC2012_val_00024718.JPEG',\n",
       "       '/home/juhyeon/Imagenet/val/n01944390/ILSVRC2012_val_00009654.JPEG',\n",
       "       '/home/juhyeon/Imagenet/val/n03840681/ILSVRC2012_val_00039880.JPEG',\n",
       "       ...,\n",
       "       '/home/juhyeon/Imagenet/val/n03942813/ILSVRC2012_val_00041336.JPEG',\n",
       "       '/home/juhyeon/Imagenet/val/n03124170/ILSVRC2012_val_00009695.JPEG',\n",
       "       '/home/juhyeon/Imagenet/val/n03825788/ILSVRC2012_val_00039100.JPEG'],\n",
       "      dtype='<U65')"
      ]
     },
     "execution_count": 13,
     "metadata": {},
     "output_type": "execute_result"
    }
   ],
   "source": [
    "candidate = filepath\n",
    "# np.random.shuffle(candidate)\n",
    "candidate"
   ]
  },
  {
   "cell_type": "code",
   "execution_count": 14,
   "metadata": {},
   "outputs": [],
   "source": [
    "for i in range(5, 40, 1):\n",
    "    with open(f\"val_center_crop_224_seed_{i}.npy\", \"wb\") as f:\n",
    "        np.save(f, candidate[1000*i:1000*(i+1)]) "
   ]
  },
  {
   "cell_type": "code",
   "execution_count": 17,
   "metadata": {},
   "outputs": [],
   "source": [
    "with open(\"val_center_crop_224_seed_39.npy\", \"rb\") as f:\n",
    "    arr = np.load(f)"
   ]
  },
  {
   "cell_type": "code",
   "execution_count": 18,
   "metadata": {},
   "outputs": [
    {
     "data": {
      "text/plain": [
       "array(['/home/juhyeon/Imagenet/val/n03759954/ILSVRC2012_val_00042490.JPEG',\n",
       "       '/home/juhyeon/Imagenet/val/n03942813/ILSVRC2012_val_00041336.JPEG',\n",
       "       '/home/juhyeon/Imagenet/val/n03124170/ILSVRC2012_val_00009695.JPEG',\n",
       "       '/home/juhyeon/Imagenet/val/n03825788/ILSVRC2012_val_00039100.JPEG'],\n",
       "      dtype='<U65')"
      ]
     },
     "execution_count": 18,
     "metadata": {},
     "output_type": "execute_result"
    }
   ],
   "source": [
    "arr"
   ]
  },
  {
   "cell_type": "code",
   "execution_count": null,
   "metadata": {},
   "outputs": [],
   "source": []
  },
  {
   "cell_type": "code",
   "execution_count": null,
   "metadata": {},
   "outputs": [],
   "source": []
  }
 ],
 "metadata": {
  "kernelspec": {
   "display_name": "lcodec",
   "language": "python",
   "name": "python3"
  },
  "language_info": {
   "codemirror_mode": {
    "name": "ipython",
    "version": 3
   },
   "file_extension": ".py",
   "mimetype": "text/x-python",
   "name": "python",
   "nbconvert_exporter": "python",
   "pygments_lexer": "ipython3",
   "version": "3.9.12"
  },
  "orig_nbformat": 4,
  "vscode": {
   "interpreter": {
    "hash": "2055d8db55d9e03c38dbc512df7d030fe120f04219cb81e9a61525ce7e8aa45b"
   }
  }
 },
 "nbformat": 4,
 "nbformat_minor": 2
}
