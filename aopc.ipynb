{
 "cells": [
  {
   "cell_type": "code",
   "execution_count": 53,
   "metadata": {},
   "outputs": [],
   "source": [
    "from torchvision.models import resnet50, ResNet50_Weights\n",
    "import numpy as np\n",
    "import os\n",
    "from transform_factory import tensorize, center_crop_224, resize_322, imagenet_normalize\n",
    "from PIL import Image\n",
    "import torch.nn.functional as F\n",
    "import torch\n",
    "import matplotlib.pyplot as plt"
   ]
  },
  {
   "cell_type": "code",
   "execution_count": 54,
   "metadata": {},
   "outputs": [],
   "source": [
    "# config\n",
    "seed = 3\n",
    "expl_method = \"LayerXAct\""
   ]
  },
  {
   "cell_type": "code",
   "execution_count": 55,
   "metadata": {},
   "outputs": [],
   "source": [
    "model = resnet50(weights=ResNet50_Weights.DEFAULT).eval()"
   ]
  },
  {
   "cell_type": "code",
   "execution_count": 56,
   "metadata": {},
   "outputs": [],
   "source": [
    "with open(f\"./val_seed_{seed}.npy\", \"rb\") as f:\n",
    "    filepath_list = np.load(f)\n",
    "\n",
    "orig_imgs = []\n",
    "orig_expls = []\n",
    "\n",
    "\n",
    "for img_path in filepath_list[:1]:\n",
    "    img_name = os.path.basename(img_path)\n",
    "\n",
    "    orig_img = Image.open(img_path)\n",
    "    orig_img = imagenet_normalize(tensorize(center_crop_224(resize_322(orig_img))))\n",
    "\n",
    "    orig_imgs.append(orig_img)\n",
    "\n",
    "    with open(f\"results/val_seed_{seed}_pred_orig_eval_orig_transform_both_sign_all_reduction_sum/{img_name}_expl_{expl_method}_sample_2000_sigma_0.05_seed_{seed}_orig_true_config.npy\", \"rb\") as f:\n",
    "        orig_expl = np.load(f, allow_pickle=True)\n",
    "        true_expls = np.load(f, allow_pickle=True)\n",
    "        configs = np.load(f, allow_pickle=True)\n",
    "\n",
    "        orig_expl = F.interpolate(torch.tensor(orig_expl).unsqueeze(0), (224, 224), mode='bilinear').squeeze(0).numpy()\n",
    "\n",
    "        orig_expls.append(orig_expl)\n",
    "\n",
    "\n",
    "orig_imgs = torch.stack(orig_imgs)\n",
    "orig_expls = torch.tensor(np.stack(orig_expls))\n"
   ]
  },
  {
   "cell_type": "code",
   "execution_count": 57,
   "metadata": {},
   "outputs": [
    {
     "data": {
      "text/plain": [
       "torch.Size([1, 1, 224, 224])"
      ]
     },
     "execution_count": 57,
     "metadata": {},
     "output_type": "execute_result"
    }
   ],
   "source": [
    "orig_imgs.shape\n",
    "orig_expls.shape"
   ]
  },
  {
   "cell_type": "code",
   "execution_count": 58,
   "metadata": {},
   "outputs": [],
   "source": [
    "y = model(orig_imgs).argmax(dim = 1)"
   ]
  },
  {
   "cell_type": "code",
   "execution_count": 59,
   "metadata": {},
   "outputs": [],
   "source": [
    "class AOPCTestor():\n",
    "    def __init__(self, model) -> None:\n",
    "        self.model = model\n",
    "        self.softmax = torch.nn.Softmax(dim = 1)\n",
    "\n",
    "\n",
    "    @staticmethod\n",
    "    def perturbation(expl, img, ratio, mode=\"insertion\"):\n",
    "    # expl : [B, C=1, H, W]\n",
    "    # img : [B, C=3, H, W]\n",
    "        order = expl.flatten(1).argsort(descending=True)\n",
    "        n_perturb = int(ratio * order.shape[1])\n",
    "        n_order = order[:, n_perturb] \n",
    "        threshold = expl.flatten(1)[range(len(expl)), n_order]\n",
    "\n",
    "        if mode == \"insertion\":\n",
    "            mask = expl > threshold.reshape(len(expl), 1, 1).unsqueeze(1)\n",
    "        elif mode == \"deletion\":\n",
    "            mask = expl < threshold.reshape(len(expl), 1, 1).unsqueeze(1)        \n",
    "        return (img * mask).detach()\n",
    "\n",
    "    @staticmethod\n",
    "    def conf_perturbation(expl, img, ratio, conf_high, conf_low, mode=\"insertion\"):\n",
    "        attr_order = expl.flatten(1).argsort(descending = True)\n",
    "        \n",
    "\n",
    "    def test_step(self, expl, img, label, mode=\"orig\"):\n",
    "        prob_list = []\n",
    "        for ratio in np.arange(0, 1, 0.05):\n",
    "\n",
    "            # if mode == \"orig\":\n",
    "            img_p = self.perturbation(expl, img, ratio=ratio, mode=mode)\n",
    "            # else:\n",
    "                # img_p = self.conf_perturbation(expl, img, ratio=ratio)\n",
    "\n",
    "            logit = self.model(img_p)\n",
    "            prob = self.softmax(logit)\n",
    "\n",
    "            aopc_prob = prob[range(len(label)), label].detach().mean()\n",
    "            prob_list.append(aopc_prob)\n",
    "\n",
    "        return prob_list"
   ]
  },
  {
   "cell_type": "code",
   "execution_count": 60,
   "metadata": {},
   "outputs": [],
   "source": [
    "tester = AOPCTestor(model=model)\n",
    "prob_list = tester.test_step(orig_expls, orig_imgs, y, mode=\"insertion\")"
   ]
  },
  {
   "cell_type": "code",
   "execution_count": 61,
   "metadata": {},
   "outputs": [
    {
     "name": "stdout",
     "output_type": "stream",
     "text": [
      "[tensor(0.0008), tensor(0.4343), tensor(0.4013), tensor(0.4883), tensor(0.4493), tensor(0.4614), tensor(0.4866), tensor(0.5751), tensor(0.5752), tensor(0.5577), tensor(0.5684), tensor(0.5726), tensor(0.5646), tensor(0.6041), tensor(0.6090), tensor(0.5876), tensor(0.5976), tensor(0.6294), tensor(0.6582), tensor(0.6791)] tensor(0.5250)\n"
     ]
    }
   ],
   "source": [
    "print(prob_list, torch.stack(prob_list).mean())"
   ]
  },
  {
   "cell_type": "code",
   "execution_count": 62,
   "metadata": {},
   "outputs": [
    {
     "name": "stderr",
     "output_type": "stream",
     "text": [
      "/tmp/ipykernel_932471/1012040628.py:14: UserWarning: To copy construct from a tensor, it is recommended to use sourceTensor.clone().detach() or sourceTensor.clone().detach().requires_grad_(True), rather than torch.tensor(sourceTensor).\n",
      "  conf_highs.append(torch.tensor(result['conf_high']))\n",
      "/tmp/ipykernel_932471/1012040628.py:15: UserWarning: To copy construct from a tensor, it is recommended to use sourceTensor.clone().detach() or sourceTensor.clone().detach().requires_grad_(True), rather than torch.tensor(sourceTensor).\n",
      "  conf_lows.append(torch.tensor(result['conf_low']))\n"
     ]
    }
   ],
   "source": [
    "conf_highs = []\n",
    "conf_lows = []\n",
    "\n",
    "alpha = 0.05\n",
    "\n",
    "for img_path in filepath_list[:1]:\n",
    "    img_name = os.path.basename(img_path)\n",
    "    \n",
    "    with open(f\"results/val_seed_{seed}_pred_orig_eval_orig_transform_both_sign_all_reduction_sum/{img_name}_expl_{expl_method}_sample_2000_sigma_0.05_seed_{seed}_results.pkl\", \"rb\") as f:\n",
    "        results = np.load(f, allow_pickle=True)\n",
    "\n",
    "    result = results[int(alpha / 0.05)]\n",
    "\n",
    "    conf_highs.append(torch.tensor(result['conf_high']))\n",
    "    conf_lows.append(torch.tensor(result['conf_low']))\n",
    "\n",
    "\n",
    "conf_highs = torch.stack(conf_highs)\n",
    "conf_lows = torch.stack(conf_lows)"
   ]
  },
  {
   "cell_type": "code",
   "execution_count": 63,
   "metadata": {},
   "outputs": [],
   "source": [
    "tester = AOPCTestor(model=model)\n",
    "# tester.test_step(conf_lows, orig_imgs, y, mode='deletion')\n",
    "high_prob_list = tester.test_step(conf_highs, orig_imgs, y, mode='insertion')\n"
   ]
  },
  {
   "cell_type": "code",
   "execution_count": 64,
   "metadata": {},
   "outputs": [
    {
     "name": "stdout",
     "output_type": "stream",
     "text": [
      "[tensor(0.0008), tensor(0.4237), tensor(0.3915), tensor(0.4767), tensor(0.4399), tensor(0.4802), tensor(0.5314), tensor(0.5845), tensor(0.5868), tensor(0.5563), tensor(0.5368), tensor(0.5647), tensor(0.5651), tensor(0.6404), tensor(0.6058), tensor(0.6386), tensor(0.6163), tensor(0.6533), tensor(0.6110), tensor(0.6658)] tensor(0.5285)\n"
     ]
    }
   ],
   "source": [
    "print(high_prob_list, torch.stack(high_prob_list).mean())\n"
   ]
  },
  {
   "cell_type": "code",
   "execution_count": 39,
   "metadata": {},
   "outputs": [],
   "source": [
    "low_prob_list = tester.test_step(conf_lows, orig_imgs, y, mode='deletion')\n"
   ]
  },
  {
   "cell_type": "code",
   "execution_count": 40,
   "metadata": {},
   "outputs": [
    {
     "data": {
      "text/plain": [
       "[tensor(0.9325),\n",
       " tensor(0.8562),\n",
       " tensor(0.7736),\n",
       " tensor(0.6832),\n",
       " tensor(0.6072),\n",
       " tensor(0.5264),\n",
       " tensor(0.4559),\n",
       " tensor(0.3888),\n",
       " tensor(0.3296),\n",
       " tensor(0.2809),\n",
       " tensor(0.2395),\n",
       " tensor(0.2081),\n",
       " tensor(0.1850),\n",
       " tensor(0.1489),\n",
       " tensor(0.1249),\n",
       " tensor(0.1081),\n",
       " tensor(0.0777),\n",
       " tensor(0.0471),\n",
       " tensor(0.0276),\n",
       " tensor(0.0166)]"
      ]
     },
     "execution_count": 40,
     "metadata": {},
     "output_type": "execute_result"
    }
   ],
   "source": [
    "low_prob_list"
   ]
  },
  {
   "cell_type": "code",
   "execution_count": null,
   "metadata": {},
   "outputs": [],
   "source": []
  }
 ],
 "metadata": {
  "kernelspec": {
   "display_name": "lcodec",
   "language": "python",
   "name": "python3"
  },
  "language_info": {
   "codemirror_mode": {
    "name": "ipython",
    "version": 3
   },
   "file_extension": ".py",
   "mimetype": "text/x-python",
   "name": "python",
   "nbconvert_exporter": "python",
   "pygments_lexer": "ipython3",
   "version": "3.9.12"
  },
  "orig_nbformat": 4,
  "vscode": {
   "interpreter": {
    "hash": "2055d8db55d9e03c38dbc512df7d030fe120f04219cb81e9a61525ce7e8aa45b"
   }
  }
 },
 "nbformat": 4,
 "nbformat_minor": 2
}
