{
 "cells": [
  {
   "cell_type": "code",
   "execution_count": 1,
   "metadata": {},
   "outputs": [],
   "source": [
    "import torch"
   ]
  },
  {
   "cell_type": "code",
   "execution_count": 9,
   "metadata": {},
   "outputs": [],
   "source": [
    "with open(\"./results/val_seed_0_dataset_center_crop_224_orig_input_method_center_crop_224_pred_orig_eval_orig_transform_both_sign_all_reduction_sum/ILSVRC2012_val_00003091.JPEG_expl_GradCAM_sample_2000_sigma_0.05_seed_0_transform_config.txt\", \"r\") as f:\n",
    "    line = f.read()"
   ]
  },
  {
   "cell_type": "code",
   "execution_count": 10,
   "metadata": {},
   "outputs": [],
   "source": [
    "line = line.splitlines()"
   ]
  },
  {
   "cell_type": "code",
   "execution_count": 13,
   "metadata": {},
   "outputs": [
    {
     "data": {
      "text/plain": [
       "[('hflip', 1),\n",
       " ('Rotate', -135.0),\n",
       " ('Brightness', -0.7260000109672546),\n",
       " ('Color', 0.3630000054836273),\n",
       " ('Contrast', -0.8910000324249268),\n",
       " ('Sharpness', 0.7260000109672546),\n",
       " ('Posterize', 6.0),\n",
       " ('Solarize', 204.0),\n",
       " ('AutoContrast', 0.0),\n",
       " ('Equalize', 0.0)]"
      ]
     },
     "execution_count": 13,
     "metadata": {},
     "output_type": "execute_result"
    }
   ],
   "source": [
    "eval(line[0])"
   ]
  },
  {
   "cell_type": "code",
   "execution_count": null,
   "metadata": {},
   "outputs": [],
   "source": [
    "def _transform_with_config(img, op_name, magnitude, interpolation, fill):\n",
    "    "
   ]
  }
 ],
 "metadata": {
  "kernelspec": {
   "display_name": "lcodec",
   "language": "python",
   "name": "python3"
  },
  "language_info": {
   "codemirror_mode": {
    "name": "ipython",
    "version": 3
   },
   "file_extension": ".py",
   "mimetype": "text/x-python",
   "name": "python",
   "nbconvert_exporter": "python",
   "pygments_lexer": "ipython3",
   "version": "3.9.12"
  },
  "orig_nbformat": 4,
  "vscode": {
   "interpreter": {
    "hash": "2055d8db55d9e03c38dbc512df7d030fe120f04219cb81e9a61525ce7e8aa45b"
   }
  }
 },
 "nbformat": 4,
 "nbformat_minor": 2
}
