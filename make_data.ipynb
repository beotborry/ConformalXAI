{
 "cells": [
  {
   "cell_type": "code",
   "execution_count": 24,
   "metadata": {},
   "outputs": [],
   "source": [
    "import numpy as np"
   ]
  },
  {
   "cell_type": "code",
   "execution_count": 27,
   "metadata": {},
   "outputs": [],
   "source": [
    "with open(\"./val_prob_322_then_224_twice.npy\", \"rb\") as f:\n",
    "    arr = np.load(f)"
   ]
  },
  {
   "cell_type": "code",
   "execution_count": 28,
   "metadata": {},
   "outputs": [],
   "source": [
    "filepath_list = arr[:, 0]\n",
    "prob_list = arr[:, 1].astype(np.float64)\n"
   ]
  },
  {
   "cell_type": "code",
   "execution_count": 29,
   "metadata": {},
   "outputs": [
    {
     "name": "stdout",
     "output_type": "stream",
     "text": [
      "36206\n"
     ]
    }
   ],
   "source": [
    "print(len(filepath_list))"
   ]
  },
  {
   "cell_type": "code",
   "execution_count": 30,
   "metadata": {},
   "outputs": [
    {
     "data": {
      "text/plain": [
       "array([0.99890542, 0.99653256, 0.99637812, ..., 0.02149425, 0.01973186,\n",
       "       0.01542433])"
      ]
     },
     "execution_count": 30,
     "metadata": {},
     "output_type": "execute_result"
    }
   ],
   "source": [
    "filepath = filepath_list[prob_list.argsort()[::-1]]\n",
    "prob = prob_list[prob_list.argsort()[::-1]]\n",
    "\n",
    "filepath\n",
    "prob"
   ]
  },
  {
   "cell_type": "code",
   "execution_count": 31,
   "metadata": {},
   "outputs": [
    {
     "data": {
      "text/plain": [
       "0.624844491481781"
      ]
     },
     "execution_count": 31,
     "metadata": {},
     "output_type": "execute_result"
    }
   ],
   "source": [
    "prob[5000]"
   ]
  },
  {
   "cell_type": "code",
   "execution_count": 21,
   "metadata": {},
   "outputs": [
    {
     "data": {
      "text/plain": [
       "array(['/home/juhyeon/Imagenet/val/n02795169/ILSVRC2012_val_00038485.JPEG',\n",
       "       '/home/juhyeon/Imagenet/val/n02795169/ILSVRC2012_val_00028797.JPEG',\n",
       "       '/home/juhyeon/Imagenet/val/n07248320/ILSVRC2012_val_00001619.JPEG',\n",
       "       ...,\n",
       "       '/home/juhyeon/Imagenet/val/n02077923/ILSVRC2012_val_00022732.JPEG',\n",
       "       '/home/juhyeon/Imagenet/val/n03498962/ILSVRC2012_val_00016204.JPEG',\n",
       "       '/home/juhyeon/Imagenet/val/n03763968/ILSVRC2012_val_00020405.JPEG'],\n",
       "      dtype='<U65')"
      ]
     },
     "execution_count": 21,
     "metadata": {},
     "output_type": "execute_result"
    }
   ],
   "source": [
    "candidate = filepath[:5000]\n",
    "# np.random.shuffle(candidate)\n",
    "candidate"
   ]
  },
  {
   "cell_type": "code",
   "execution_count": 8,
   "metadata": {},
   "outputs": [],
   "source": [
    "for i in range(5):\n",
    "    # with open(f\"val_seed_{i}.npy\", \"wb\") as f:\n",
    "        # np.save(f, candidate[1000*i:1000*(i+1)]) "
   ]
  },
  {
   "cell_type": "code",
   "execution_count": 17,
   "metadata": {},
   "outputs": [],
   "source": [
    "with open(\"val_224_seed_4.npy\", \"rb\") as f:\n",
    "    arr = np.load(f)"
   ]
  },
  {
   "cell_type": "code",
   "execution_count": 18,
   "metadata": {},
   "outputs": [
    {
     "data": {
      "text/plain": [
       "(1000,)"
      ]
     },
     "execution_count": 18,
     "metadata": {},
     "output_type": "execute_result"
    }
   ],
   "source": [
    "arr.shape"
   ]
  },
  {
   "cell_type": "code",
   "execution_count": null,
   "metadata": {},
   "outputs": [],
   "source": []
  }
 ],
 "metadata": {
  "kernelspec": {
   "display_name": "lcodec",
   "language": "python",
   "name": "python3"
  },
  "language_info": {
   "codemirror_mode": {
    "name": "ipython",
    "version": 3
   },
   "file_extension": ".py",
   "mimetype": "text/x-python",
   "name": "python",
   "nbconvert_exporter": "python",
   "pygments_lexer": "ipython3",
   "version": "3.9.12"
  },
  "orig_nbformat": 4,
  "vscode": {
   "interpreter": {
    "hash": "2055d8db55d9e03c38dbc512df7d030fe120f04219cb81e9a61525ce7e8aa45b"
   }
  }
 },
 "nbformat": 4,
 "nbformat_minor": 2
}
