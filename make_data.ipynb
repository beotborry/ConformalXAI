{
 "cells": [
  {
   "cell_type": "code",
   "execution_count": 1,
   "metadata": {},
   "outputs": [],
   "source": [
    "import numpy as np"
   ]
  },
  {
   "cell_type": "code",
   "execution_count": 2,
   "metadata": {},
   "outputs": [],
   "source": [
    "with open(\"./val_prob_232_224.npy\", \"rb\") as f:\n",
    "    arr = np.load(f)"
   ]
  },
  {
   "cell_type": "code",
   "execution_count": 3,
   "metadata": {},
   "outputs": [
    {
     "name": "stdout",
     "output_type": "stream",
     "text": [
      "39320\n"
     ]
    }
   ],
   "source": [
    "filepath_list = arr[:, 0]\n",
    "prob_list = arr[:, 1].astype(np.float64)\n",
    "\n",
    "print(len(arr))"
   ]
  },
  {
   "cell_type": "code",
   "execution_count": 4,
   "metadata": {},
   "outputs": [
    {
     "name": "stdout",
     "output_type": "stream",
     "text": [
      "39320\n"
     ]
    }
   ],
   "source": [
    "print(len(filepath_list))"
   ]
  },
  {
   "cell_type": "code",
   "execution_count": 5,
   "metadata": {},
   "outputs": [
    {
     "data": {
      "text/plain": [
       "array([0.99839407, 0.99520385, 0.99492365, ..., 0.02881981, 0.02671462,\n",
       "       0.01930946])"
      ]
     },
     "execution_count": 5,
     "metadata": {},
     "output_type": "execute_result"
    }
   ],
   "source": [
    "filepath = filepath_list[prob_list.argsort()[::-1]]\n",
    "prob = prob_list[prob_list.argsort()[::-1]]\n",
    "\n",
    "filepath\n",
    "prob"
   ]
  },
  {
   "cell_type": "code",
   "execution_count": null,
   "metadata": {},
   "outputs": [],
   "source": []
  },
  {
   "cell_type": "code",
   "execution_count": 6,
   "metadata": {},
   "outputs": [
    {
     "data": {
      "text/plain": [
       "array(['/home/juhyeon/Imagenet/val/n04127249/ILSVRC2012_val_00024718.JPEG',\n",
       "       '/home/juhyeon/Imagenet/val/n03840681/ILSVRC2012_val_00014053.JPEG',\n",
       "       '/home/juhyeon/Imagenet/val/n04447861/ILSVRC2012_val_00042935.JPEG',\n",
       "       ...,\n",
       "       '/home/juhyeon/Imagenet/val/n03929660/ILSVRC2012_val_00039317.JPEG',\n",
       "       '/home/juhyeon/Imagenet/val/n03207941/ILSVRC2012_val_00044218.JPEG',\n",
       "       '/home/juhyeon/Imagenet/val/n03376595/ILSVRC2012_val_00014479.JPEG'],\n",
       "      dtype='<U65')"
      ]
     },
     "execution_count": 6,
     "metadata": {},
     "output_type": "execute_result"
    }
   ],
   "source": [
    "candidate = filepath\n",
    "# np.random.shuffle(candidate)\n",
    "candidate"
   ]
  },
  {
   "cell_type": "code",
   "execution_count": 7,
   "metadata": {},
   "outputs": [],
   "source": [
    "for i in range(0, 5, 1):\n",
    "    with open(f\"val_center_crop_224_seed_{i}.npy\", \"wb\") as f:\n",
    "        np.save(f, candidate[1000*i:1000*(i+1)]) "
   ]
  },
  {
   "cell_type": "code",
   "execution_count": 17,
   "metadata": {},
   "outputs": [],
   "source": [
    "with open(\"val_center_crop_224_seed_39.npy\", \"rb\") as f:\n",
    "    arr = np.load(f)"
   ]
  },
  {
   "cell_type": "code",
   "execution_count": 18,
   "metadata": {},
   "outputs": [
    {
     "data": {
      "text/plain": [
       "array(['/home/juhyeon/Imagenet/val/n03759954/ILSVRC2012_val_00042490.JPEG',\n",
       "       '/home/juhyeon/Imagenet/val/n03942813/ILSVRC2012_val_00041336.JPEG',\n",
       "       '/home/juhyeon/Imagenet/val/n03124170/ILSVRC2012_val_00009695.JPEG',\n",
       "       '/home/juhyeon/Imagenet/val/n03825788/ILSVRC2012_val_00039100.JPEG'],\n",
       "      dtype='<U65')"
      ]
     },
     "execution_count": 18,
     "metadata": {},
     "output_type": "execute_result"
    }
   ],
   "source": [
    "arr"
   ]
  },
  {
   "cell_type": "code",
   "execution_count": null,
   "metadata": {},
   "outputs": [],
   "source": []
  },
  {
   "cell_type": "code",
   "execution_count": null,
   "metadata": {},
   "outputs": [],
   "source": []
  }
 ],
 "metadata": {
  "kernelspec": {
   "display_name": "lcodec",
   "language": "python",
   "name": "python3"
  },
  "language_info": {
   "codemirror_mode": {
    "name": "ipython",
    "version": 3
   },
   "file_extension": ".py",
   "mimetype": "text/x-python",
   "name": "python",
   "nbconvert_exporter": "python",
   "pygments_lexer": "ipython3",
   "version": "3.9.12"
  },
  "orig_nbformat": 4,
  "vscode": {
   "interpreter": {
    "hash": "2055d8db55d9e03c38dbc512df7d030fe120f04219cb81e9a61525ce7e8aa45b"
   }
  }
 },
 "nbformat": 4,
 "nbformat_minor": 2
}
