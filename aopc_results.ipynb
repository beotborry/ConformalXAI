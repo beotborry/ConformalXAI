{
 "cells": [
  {
   "cell_type": "code",
   "execution_count": 97,
   "metadata": {},
   "outputs": [],
   "source": [
    "import torch"
   ]
  },
  {
   "cell_type": "code",
   "execution_count": 98,
   "metadata": {},
   "outputs": [],
   "source": [
    "expl_method = \"GradCAM\"\n",
    "# expl_method = 'LayerXAct'\n",
    "# expl_method = 'LayerDL'\n",
    "# transform = False\n",
    "# transform = True\n",
    "# transform = ['color'] \n",
    "# transform = ['spatial', 'noise', 'color']\n",
    "transform = None\n",
    "# tester = \"ConfAOPC\"\n",
    "tester = \"OrigAOPC\"\n",
    "seed = 2\n",
    "mode = \"insertion\""
   ]
  },
  {
   "cell_type": "code",
   "execution_count": 99,
   "metadata": {},
   "outputs": [
    {
     "name": "stdout",
     "output_type": "stream",
     "text": [
      "./aopc_results/OrigAOPC_transform_None_mode_insertion_expl_method_GradCAM_seed_2_batch_num_0.pt\n",
      "./aopc_results/OrigAOPC_transform_None_mode_insertion_expl_method_GradCAM_seed_2_batch_num_1.pt\n",
      "[]\n"
     ]
    },
    {
     "ename": "RuntimeError",
     "evalue": "stack expects a non-empty TensorList",
     "output_type": "error",
     "traceback": [
      "\u001b[0;31m---------------------------------------------------------------------------\u001b[0m",
      "\u001b[0;31mRuntimeError\u001b[0m                              Traceback (most recent call last)",
      "Cell \u001b[0;32mIn[99], line 13\u001b[0m\n\u001b[1;32m     10\u001b[0m         \u001b[39mcontinue\u001b[39;00m\n\u001b[1;32m     12\u001b[0m \u001b[39mprint\u001b[39m(total_results)\n\u001b[0;32m---> 13\u001b[0m total_results \u001b[39m=\u001b[39m torch\u001b[39m.\u001b[39;49mstack(total_results)\n",
      "\u001b[0;31mRuntimeError\u001b[0m: stack expects a non-empty TensorList"
     ]
    }
   ],
   "source": [
    "total_results = []\n",
    "\n",
    "for i in range(0, 2, 1):\n",
    "    log_name = f\"./aopc_results/{tester}_transform_{transform}_mode_{mode}_expl_method_{expl_method}_seed_{seed}_batch_num_{i}.pt\"\n",
    "    print(log_name)\n",
    "    try:\n",
    "        log = torch.load(log_name)\n",
    "        total_results.append(log)\n",
    "    except:\n",
    "        continue\n",
    "\n",
    "print(total_results)\n",
    "total_results = torch.stack(total_results)"
   ]
  },
  {
   "cell_type": "code",
   "execution_count": null,
   "metadata": {},
   "outputs": [],
   "source": [
    "total_results = total_results.mean(0)"
   ]
  },
  {
   "cell_type": "code",
   "execution_count": null,
   "metadata": {},
   "outputs": [
    {
     "data": {
      "text/plain": [
       "tensor([[0.0010, 0.0734, 0.1855, 0.2512, 0.3498, 0.4191, 0.4825, 0.5290, 0.5536,\n",
       "         0.5926, 0.6186, 0.6294, 0.6589, 0.6656, 0.6830, 0.6906, 0.6912, 0.7003,\n",
       "         0.7034, 0.7184],\n",
       "        [0.0010, 0.0774, 0.1570, 0.2724, 0.3261, 0.3817, 0.4411, 0.4882, 0.5262,\n",
       "         0.5445, 0.5776, 0.5863, 0.6034, 0.6254, 0.6328, 0.6525, 0.6584, 0.6841,\n",
       "         0.6945, 0.7063],\n",
       "        [0.0010, 0.0783, 0.1550, 0.2437, 0.3162, 0.3840, 0.4538, 0.5021, 0.5379,\n",
       "         0.5603, 0.5914, 0.6009, 0.6356, 0.6374, 0.6583, 0.6755, 0.6699, 0.7078,\n",
       "         0.7119, 0.7232]])"
      ]
     },
     "execution_count": 90,
     "metadata": {},
     "output_type": "execute_result"
    }
   ],
   "source": [
    "total_results"
   ]
  },
  {
   "cell_type": "code",
   "execution_count": 95,
   "metadata": {},
   "outputs": [
    {
     "ename": "IndexError",
     "evalue": "list index out of range",
     "output_type": "error",
     "traceback": [
      "\u001b[0;31m---------------------------------------------------------------------------\u001b[0m",
      "\u001b[0;31mIndexError\u001b[0m                                Traceback (most recent call last)",
      "Cell \u001b[0;32mIn[95], line 5\u001b[0m\n\u001b[1;32m      2\u001b[0m \u001b[39mimport\u001b[39;00m \u001b[39mnumpy\u001b[39;00m \u001b[39mas\u001b[39;00m \u001b[39mnp\u001b[39;00m\n\u001b[1;32m      4\u001b[0m \u001b[39mif\u001b[39;00m tester \u001b[39m==\u001b[39m \u001b[39m\"\u001b[39m\u001b[39mOrigAOPC\u001b[39m\u001b[39m\"\u001b[39m:\n\u001b[0;32m----> 5\u001b[0m     plt\u001b[39m.\u001b[39mscatter(np\u001b[39m.\u001b[39marange(\u001b[39m0\u001b[39m, \u001b[39m1\u001b[39m, \u001b[39m0.05\u001b[39m), total_results[\u001b[39m0\u001b[39;49m], label \u001b[39m=\u001b[39m \u001b[39mf\u001b[39m\u001b[39m\"\u001b[39m\u001b[39morig expl: \u001b[39m\u001b[39m{\u001b[39;00mtotal_results[\u001b[39m0\u001b[39m]\u001b[39m.\u001b[39mmean()\u001b[39m:\u001b[39;00m\u001b[39m.4f\u001b[39m\u001b[39m}\u001b[39;00m\u001b[39m\"\u001b[39m)\n\u001b[1;32m      6\u001b[0m     plt\u001b[39m.\u001b[39mscatter(np\u001b[39m.\u001b[39marange(\u001b[39m0\u001b[39m, \u001b[39m1\u001b[39m, \u001b[39m0.05\u001b[39m), total_results[\u001b[39m1\u001b[39m], label \u001b[39m=\u001b[39m \u001b[39mf\u001b[39m\u001b[39m\"\u001b[39m\u001b[39mconf_high expl: \u001b[39m\u001b[39m{\u001b[39;00mtotal_results[\u001b[39m1\u001b[39m]\u001b[39m.\u001b[39mmean()\u001b[39m:\u001b[39;00m\u001b[39m.4f\u001b[39m\u001b[39m}\u001b[39;00m\u001b[39m\"\u001b[39m)\n\u001b[1;32m      7\u001b[0m     plt\u001b[39m.\u001b[39mscatter(np\u001b[39m.\u001b[39marange(\u001b[39m0\u001b[39m, \u001b[39m1\u001b[39m, \u001b[39m0.05\u001b[39m), total_results[\u001b[39m2\u001b[39m], label \u001b[39m=\u001b[39m \u001b[39mf\u001b[39m\u001b[39m\"\u001b[39m\u001b[39mconf_low expl: \u001b[39m\u001b[39m{\u001b[39;00mtotal_results[\u001b[39m2\u001b[39m]\u001b[39m.\u001b[39mmean()\u001b[39m:\u001b[39;00m\u001b[39m.4f\u001b[39m\u001b[39m}\u001b[39;00m\u001b[39m\"\u001b[39m)\n",
      "\u001b[0;31mIndexError\u001b[0m: list index out of range"
     ]
    }
   ],
   "source": [
    "import matplotlib.pyplot as plt\n",
    "import numpy as np\n",
    "\n",
    "if tester == \"OrigAOPC\":\n",
    "    plt.scatter(np.arange(0, 1, 0.05), total_results[0], label = f\"orig expl: {total_results[0].mean():.4f}\")\n",
    "    plt.scatter(np.arange(0, 1, 0.05), total_results[1], label = f\"conf_high expl: {total_results[1].mean():.4f}\")\n",
    "    plt.scatter(np.arange(0, 1, 0.05), total_results[2], label = f\"conf_low expl: {total_results[2].mean():.4f}\")\n",
    "elif tester == \"ConfAOPC\":\n",
    "    plt.scatter(np.arange(0, 1.05, 0.05), total_results[0], label = f\"orig expl: {total_results[0].mean():.4f}\")\n",
    "    plt.scatter(np.arange(0, 1.05, 0.05), total_results[1], label = f\"orig > 0, low > 0 expl: {total_results[1].mean():.4f}\")\n",
    "    \n",
    "plt.legend()\n",
    "plt.title(f\"AOPC curve ({expl_method}_{transform})\")\n",
    "plt.xlabel(\"Unmasked ratio\")\n",
    "plt.ylabel(\"Probability\")\n",
    "\n",
    "plt.show()\n",
    "\n",
    "print(total_results[0].mean(), total_results[1].mean())\n",
    "\n"
   ]
  },
  {
   "cell_type": "code",
   "execution_count": null,
   "metadata": {},
   "outputs": [],
   "source": []
  },
  {
   "cell_type": "code",
   "execution_count": null,
   "metadata": {},
   "outputs": [],
   "source": []
  },
  {
   "cell_type": "code",
   "execution_count": null,
   "metadata": {},
   "outputs": [],
   "source": []
  },
  {
   "cell_type": "code",
   "execution_count": null,
   "metadata": {},
   "outputs": [],
   "source": []
  }
 ],
 "metadata": {
  "kernelspec": {
   "display_name": "lcodec",
   "language": "python",
   "name": "python3"
  },
  "language_info": {
   "codemirror_mode": {
    "name": "ipython",
    "version": 3
   },
   "file_extension": ".py",
   "mimetype": "text/x-python",
   "name": "python",
   "nbconvert_exporter": "python",
   "pygments_lexer": "ipython3",
   "version": "3.9.12"
  },
  "orig_nbformat": 4,
  "vscode": {
   "interpreter": {
    "hash": "2055d8db55d9e03c38dbc512df7d030fe120f04219cb81e9a61525ce7e8aa45b"
   }
  }
 },
 "nbformat": 4,
 "nbformat_minor": 2
}
